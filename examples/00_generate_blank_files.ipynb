{
 "cells": [
  {
   "cell_type": "markdown",
   "id": "e37b0c99",
   "metadata": {},
   "source": [
    "# 自动生成各章空白文档\n",
    "\n",
    "\n",
    "::: {.callout-tip}\n",
    "### 提示词\n",
    "\n",
    "- Python 代码\n",
    "- folder: './chapters'\n",
    "- 目的：在 {folder} 下生成各章空白文档，文件名为：\n",
    "  - A00_introduction.md\n",
    "  - A01_Markdown.md\n",
    "  - A02_VScode_editor.md\n",
    "  - A03_install_Anaconda.md\n",
    "  - A04_Jupyter_Notebook.md\n",
    "  - A05_VScode_stata.md\n",
    "  - A06_Prompts.md\n",
    "  - A11_empirical_steps.md\n",
    "  - A12_repliacation_intro.md\n",
    "  - A13_repliacation_with_AI.md\n",
    "- 特殊情况处理：\n",
    "  - 设置一个参数 'replace' 用于控制是否覆盖已有文件\n",
    "    - 'replace = True' 时，直接覆盖已有文件\n",
    "    - 'replace = False' 时，若文件已存在，则不覆盖，自动在上述文件名后加上 `_v1`，`_v2` 等后缀\n",
    "\n",
    ":::"
   ]
  },
  {
   "cell_type": "code",
   "execution_count": null,
   "id": "f03e1b3b",
   "metadata": {},
   "outputs": [],
   "source": [
    "import os\n",
    "\n",
    "folder = './chapters'\n",
    "filenames = [\n",
    "    \"A01_install_Anaconda.md\",\n",
    "    \"A02_VScode_editor.md\",\n",
    "    \"A03_VScode_stata.md\",\n",
    "    \"A04_prompts.md\",\n",
    "    \"A11_empirical_steps.md\",\n",
    "    \"A12_repliacation_intro.md\",\n",
    "    \"A13_repliacation_with_AI.md\"\n",
    "]\n",
    "\n",
    "os.makedirs(folder, exist_ok=True)\n",
    "\n",
    "def get_unique_filename(folder, filename):\n",
    "    base, ext = os.path.splitext(filename)\n",
    "    counter = 1\n",
    "    new_filename = filename\n",
    "    while os.path.exists(os.path.join(folder, new_filename)):\n",
    "        new_filename = f\"{base}_v{counter}{ext}\"\n",
    "        counter += 1\n",
    "    return new_filename\n",
    "\n",
    "for fname in filenames:\n",
    "    unique_fname = get_unique_filename(folder, fname)\n",
    "    with open(os.path.join(folder, unique_fname), 'w', encoding='utf-8') as f:\n",
    "        pass  # create an empty file"
   ]
  }
 ],
 "metadata": {
  "kernelspec": {
   "display_name": "base",
   "language": "python",
   "name": "python3"
  },
  "language_info": {
   "codemirror_mode": {
    "name": "ipython",
    "version": 3
   },
   "file_extension": ".py",
   "mimetype": "text/x-python",
   "name": "python",
   "nbconvert_exporter": "python",
   "pygments_lexer": "ipython3",
   "version": "3.12.7"
  }
 },
 "nbformat": 4,
 "nbformat_minor": 5
}
