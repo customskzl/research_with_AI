{
 "cells": [
  {
   "cell_type": "markdown",
   "id": "fef23388",
   "metadata": {},
   "source": [
    "# 利用 AI 生成研究假设\n",
    "\n",
    "我主要受到了 [Korinek (2023)](https://doi.org/10.1257/jel.20231736) 的启发。Korinek 教授为这篇文章建立了一个专门的网站：[]()\n",
    "\n",
    "- [](https://genaiforecon.org/subs/ideation.html)\n",
    "\n",
    "\n",
    "- 吴欣洋, 2025, [AI自动生成研究假设，靠谱吗？流程与挑战](https://www.lianxh.cn/details/1588.html)"
   ]
  }
 ],
 "metadata": {
  "language_info": {
   "name": "python"
  }
 },
 "nbformat": 4,
 "nbformat_minor": 5
}
