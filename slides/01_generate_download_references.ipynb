{
 "cells": [
  {
   "cell_type": "markdown",
   "id": "e4dbd92a",
   "metadata": {},
   "source": [
    "# 借助 AI 做研究设计\n",
    "\n",
    "这里以一篇 2025 年 7 月 15 日发布的工作论文为例，介绍如何使用 ChatGPT 解读这篇论文的要点，并让它给出使用该文方法研究中国问题的研究设计。\n",
    "\n",
    "> Erdem, O., & Ashok, R. P. (2025). Artificial Finance: How AI Thinks About Money. arXiv. [Link](https://doi.org/10.48550/arXiv.2507.10933) (rep), [PDF](https://arxiv.org/pdf/2507.10933.pdf), [Google](<https://scholar.google.com/scholar?q=Artificial Finance: How AI Thinks About Money (Version 1)>)."
   ]
  },
  {
   "cell_type": "markdown",
   "id": "38fb1d55",
   "metadata": {},
   "source": [
    "\n",
    "## 引文下载和解读\n",
    "\n",
    "在制作 Slides 的过程中，我需要搜索很多文献。由于时间和能力的限制，我无法对每篇文献进行深入的解读和总结。为此，我使用如下流程加速我对这些文献的理解：\n",
    "\n",
    "1. 使用我编写的 Stata 命令 [getiref](https://www.lianxh.cn/details/1382.html) 获得引文信息，并下载 PDF 文档到指定路径。\n",
    "2. 将这些 PDF 文档 (一次一篇或同主题的多篇) 发送给 AI 助手 (我主要使用 ChatGPT 和豆包)，让它们帮我解读论文的要点。我会酌情追问，并阅读原文中的相关内容。如有必要，我会把这些内容发送给 AI 助手，让它解读，或提供更容易理解的公式、实例、Stata/Python 代码等。"
   ]
  },
  {
   "cell_type": "markdown",
   "id": "4d007976",
   "metadata": {},
   "source": [
    "### 用 getiref 下载引文\n",
    "\n",
    "你可以直接在 Stata 命令窗口中执行这些命令，也可以在 dofile 中执行。此处，我已经配置好了 Python + Jupyter Notebook 环境 ([配置方法](https://book.lianxh.cn/ds/body/01_1_install-Python-Anocanda.html))，因此，我直接在 Jupyter Notebook 中执行这些命令。\n"
   ]
  },
  {
   "cell_type": "code",
   "execution_count": null,
   "id": "c04a395d",
   "metadata": {},
   "outputs": [
    {
     "name": "stdout",
     "output_type": "stream",
     "text": [
      "Unknown #command\n",
      "Unknown #command\n",
      "checking getiref consistency and verifying not already installed...\n",
      "all files already exist and are up to date.\n",
      "D:\\github_lianxh\\AI_research\\slides\\refs\n"
     ]
    }
   ],
   "source": [
    "\n",
    "* 安装 getiref\n",
    "ssc install getiref, replace\n",
    "\n",
    "* 设置下载路径\n",
    "global refpath \"D:\\github_lianxh\\AI_research\\slides\\refs\"\n",
    "cd \"$refpath\""
   ]
  },
  {
   "cell_type": "code",
   "execution_count": 4,
   "id": "1a9bfe9f",
   "metadata": {},
   "outputs": [
    {
     "name": "stdout",
     "output_type": "stream",
     "text": [
      "  \n",
      "Erdem, O., & Ashok, R. P. (2025). Artificial Finance: How AI Thinks About Money\n",
      ">  (Version 1). arXiv.\n",
      "    Link (rep)    PDF    Google    \n",
      "\n",
      "Erdem, O., & Ashok, R. P. (2025). Artificial Finance: How AI Thinks About Money\n",
      ">  (Version 1). arXiv. [Link](https://doi.org/10.48550/arXiv.2507.10933) (rep),\n",
      ">  [PDF](https://arxiv.org/pdf/2507.10933.pdf), [Google](<https://scholar.googl\n",
      "> e.com/scholar?q=Artificial Finance: How AI Thinks About Money (Version 1)>).\n",
      "        PDF:   dir    view_online     Open\n",
      " \n",
      "Tips: Text is on clipboard. Press 'Ctrl+V' to paste, ^-^\n"
     ]
    }
   ],
   "source": [
    "getiref 2507.10933 , m arxiv pdf"
   ]
  },
  {
   "cell_type": "markdown",
   "id": "f74733fa",
   "metadata": {},
   "source": [
    "执行完上述命令后，引文信息已经被自动粘贴在剪切板上，直接按快捷键 `Ctrl + V` 即可粘贴到 Jupyter Notebook 中。同时，PDF 文档已经下载到指定路径。"
   ]
  },
  {
   "cell_type": "markdown",
   "id": "929ecadf",
   "metadata": {},
   "source": [
    "### 下载好引文信息\n",
    "\n",
    "- Erdem, O., & Ashok, R. P. (2025). Artificial Finance: How AI Thinks About Money (Version 1). arXiv. [Link](https://doi.org/10.48550/arXiv.2507.10933) (rep), [PDF](https://arxiv.org/pdf/2507.10933.pdf), [Google](<https://scholar.google.com/scholar?q=Artificial Finance: How AI Thinks About Money (Version 1)>)."
   ]
  },
  {
   "cell_type": "markdown",
   "id": "5a24a773",
   "metadata": {},
   "source": [
    "## 论文解读\n",
    "\n",
    "下面，我们开始写提示词，让 ChatGPT 帮忙解读这篇论文。你可以把该文的 PDF 文档发送给 ChatGPT (推荐，该方法比较稳定)，或直接在提示词中提供该文的链接。\n",
    "\n",
    "::: {.callout-tip}\n",
    "### 提示词 1：论文概要\n",
    "\n",
    "> [ChatGPT 完整对话](https://chatgpt.com/share/68825428-da08-8005-aade-68c90f3431f5)\n",
    "\n",
    "```md\n",
    "#任务：论文解读-Erdem, O., & Ashok, R. P. (2025)\n",
    "\n",
    "Erdem, O., & Ashok, R. P. (2025). Artificial Finance: How AI Thinks About Money (Version 1). arXiv. [Link](https://doi.org/10.48550/arXiv.2507.10933) (rep), [PDF](https://arxiv.org/pdf/2507.10933.pdf), [Google](<https://scholar.google.com/scholar?q=Artificial Finance: How AI Thinks About Money (Version 1)>).\n",
    "\n",
    "要点：\n",
    "1. 主要研究内容\n",
    "2. 研究方法。与传统方法有何区别？\n",
    "3. 文中使用了那些主要的 AI 工具或模型？如何使用的？\n",
    "4. 作者提供的提示词有哪些？\n",
    "5. 这篇论文对我们进行金融学领域的研究有哪些启发？\n",
    "6. 酌情提供你认为重要的其他内容。 \n",
    "```\n",
    "\n",
    ":::\n",
    "\n",
    "AI 基本上能提炼出全文的要点，与我快速浏览该文看到的信息基本一致。"
   ]
  },
  {
   "cell_type": "markdown",
   "id": "4996e7ee",
   "metadata": {},
   "source": []
  },
  {
   "cell_type": "markdown",
   "id": "31a1ca77",
   "metadata": {},
   "source": [
    "::: {.callout-tip}\n",
    "### 提示词 2：迁移\n",
    "\n",
    "> [ChatGPT 完整对话](https://chatgpt.com/share/68825428-da08-8005-aade-68c90f3431f5)\n",
    "\n",
    "如果我想按照相似的模式和思路撰写一篇论文，我有如下问题：\n",
    "\n",
    "1. 有哪些可能的选题 (列出 3 个)？每个选题的边际贡献和预期结论是什么？\n",
    "2. 需要哪些大模型技术支持？预估费用和主要困难是什么？大概多久能完成？\n",
    "3. 研究对象和数据来源：中国\n",
    "\n",
    ":::\n",
    "\n",
    "ChatGPT 提供了三个选题建议，并针对我的问题 2 和 3 给出了详细的解答。三个选题如下：\n",
    "\n",
    "- AI 如何理解中国家庭的储蓄与消费决策？\n",
    "- 大模型能否模拟中国人对风险的态度？——以保险选择为例\n",
    "- AI 理解中国年轻人的职业选择逻辑吗？——一项基于 LLM 的偏好映射研究\n",
    "\n",
    "我最终选择第一个选题进行追问，让 ChatGPT 帮我设计了研究框架和方法。"
   ]
  },
  {
   "cell_type": "markdown",
   "id": "42eeee93",
   "metadata": {},
   "source": [
    "::: {.callout-tip}\n",
    "### 提示词 3：帮我做研究计划\n",
    "\n",
    "好，我计划研究第一个主题：AI 如何理解中国家庭的储蓄与消费决策？\n",
    "\n",
    "你帮我制定一个具有可操作性的研究计划\n",
    "> [ChatGPT 完整对话](https://chatgpt.com/share/68825428-da08-8005-aade-68c90f3431f5)\n",
    "\n",
    ":::\n",
    "\n",
    "AI 做的研究计划看起来流程上没有问题，但细节上有很多问题。比如，没有明确数据来源于何处，也没有说明关键方法的细节。此时，我们需要快速阅读原文，找出研究设计中最重要 (通常也最棘手) 的一些问题进行追问。这是与 AI 进行合作的关键所在。 \n",
    "\n",
    "![](https://fig-lianxh.oss-cn-shenzhen.aliyuncs.com/20250725000537.png)"
   ]
  },
  {
   "cell_type": "markdown",
   "id": "11b88d13",
   "metadata": {},
   "source": [
    "::: {.callout-tip}\n",
    "### 提示词 4：追问、细化研究设计\n",
    "\n",
    "在 Erdem et al. (2025) 的论文中，人类数据源于一个非常成熟的数据库 「人类数据：来自 INTRA（International Test on Risk Attitudes）数据库（Wang et al., 2017）」。\n",
    "我的问题：\n",
    "1. 我的研究中使用哪个数据源比较好？\n",
    "2. Erdem 文中设计了 14 个问题，我的研究中如何设计这些问题？能否给我一个范本？\n",
    ":::\n",
    "\n",
    "这次 AI 的表现不错，帮我设计了 14 个问题，涵盖了储蓄、消费、风险偏好等方面。并且给出了每个问题的设计思路和预期目标。\n",
    "\n",
    "它很聪明，主动提出了如下建议 (这个是我此前没有想到的)：\n"
   ]
  },
  {
   "cell_type": "markdown",
   "id": "bde18c24",
   "metadata": {},
   "source": [
    "\n",
    "::: {.callout-note}\n",
    "### ChatGPT 的建议 1\n",
    "\n",
    "如你需要，我可以：\n",
    "\n",
    "直接帮你整理出 14 个问题的题库文案；\n",
    "\n",
    "为每个问题生成 GPT-4o、Gemini、通义等模型的标准化 prompt；\n",
    "\n",
    "输出配套 Python 提示词实验脚本框架。\n",
    "\n",
    "是否要我继续整理出完整的「14 个问题题库」？\n",
    "\n",
    ":::"
   ]
  },
  {
   "cell_type": "markdown",
   "id": "c9f3b4bc",
   "metadata": {},
   "source": [
    "::: {.callout-tip}\n",
    "### 提示词 5：让 AI 写 Prompt 脚本和 Python 代码\n",
    "\n",
    "好，请完成如下任务：\n",
    "\n",
    "直接帮你整理出 14 个问题的题库文案；\n",
    "\n",
    "为每个问题生成 GPT-4o、Gemini、通义等模型的标准化 prompt；\n",
    "\n",
    "输出配套 Python 提示词实验脚本框架。\n",
    "\n",
    ":::"
   ]
  },
  {
   "cell_type": "markdown",
   "id": "97c39bb7",
   "metadata": {},
   "source": [
    "ChatGPT 帮我编写了一些 Prompts 和 Python 代码，虽然有些问题，但基本上可以直接使用。同时，他还给出了如下建议：\n",
    "\n",
    "\n",
    "::: {.callout-note}\n",
    "### ChatGPT 的建议 2\n",
    "\n",
    "如果你使用国内模型（如通义），我可帮你将 API 接口改为 dashscope；\n",
    "\n",
    "如果你希望将输出结果直接转为结构化 JSON 或进一步分析（如聚类、PCA），我也可以补上后续代码模板；\n",
    "\n",
    "如果需要生成配套的问卷版 PDF 或问卷星模板，也可以告诉我，我可代为整理。\n",
    "\n",
    "是否继续？你下一步准备运行实验，还是要先发放人类问卷做对比？\n",
    "\n",
    ":::"
   ]
  },
  {
   "cell_type": "markdown",
   "id": "c04bde47",
   "metadata": {},
   "source": [
    "我对通义千问的 API 接口不熟悉，因此，我没有继续和 ChatGPT 对话，而是另开了一个对话窗口，询问通义千问的 API 接口使用方法。10 分钟后，我大致理解了 API 的原理：本质上就是按照一定的语法规则把提示词和参数传递给通义千问，获取返回结果 (有点类似于使用 APP 点菜)。\n",
    "\n",
    "我注意到，上述建议中其实包含了多个操作步骤，我想逐个处理。为此，我又编写了如下提示词：\n",
    "\n",
    "::: {.callout-tip}\n",
    "### 提示词 6：让 AI 使用通义千问编写代码\n",
    "\n",
    "我用通义千问，你帮我编写一份完整的代码思路文本 (伪代码)，然后撰写完整的可以实操的 Python 代码。\n",
    "\n",
    "这一步完成后，再开始制作基于问卷星的人类问卷。 \n",
    "\n",
    ":::"
   ]
  },
  {
   "cell_type": "markdown",
   "id": "14e80d6d",
   "metadata": {},
   "source": []
  }
 ],
 "metadata": {
  "kernelspec": {
   "display_name": "Stata (nbstata)",
   "language": "stata",
   "name": "nbstata"
  },
  "language_info": {
   "file_extension": ".do",
   "mimetype": "text/x-stata",
   "name": "stata",
   "version": "17"
  }
 },
 "nbformat": 4,
 "nbformat_minor": 5
}
