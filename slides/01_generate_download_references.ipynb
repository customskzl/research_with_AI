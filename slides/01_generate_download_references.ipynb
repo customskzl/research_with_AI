{
 "cells": [
  {
   "cell_type": "markdown",
   "id": "38fb1d55",
   "metadata": {},
   "source": [
    "# 下载文献\n",
    "\n",
    "\n",
    "在制作 Slides 的过程中，我需要搜索很多文献。由于时间和能力的限制，我无法对每篇文献进行深入的解读和总结。为此，我使用如下流程加速我对这些文献的理解：\n",
    "\n",
    "1. 使用我编写的 Stata 命令 [getiref](https://www.lianxh.cn/details/1382.html) 获得引文信息，并下载 PDF 文档到指定路径。\n",
    "2. 将这些 PDF 文档 (一次一篇或同主题的多篇) 发送给 AI 助手 (我主要使用 ChatGPT 和豆包)，让它们帮我解读论文的要点。我会酌情追问，并阅读原文中的相关内容。如有必要，我会把这些内容发送给 AI 助手，让它解读，或提供更容易理解的公式、实例、Stata/Python 代码等。\n",
    "\n",
    "本文档主要用于下载文献到 **./refs** 目录下。"
   ]
  },
  {
   "cell_type": "markdown",
   "id": "4d007976",
   "metadata": {},
   "source": [
    "## 用 getiref 下载引文\n",
    "\n",
    "你可以直接在 Stata 命令窗口中执行这些命令，也可以在 dofile 中执行。此处，我已经配置好了 Python + Jupyter Notebook 环境 ([配置方法](https://book.lianxh.cn/ds/body/01_1_install-Python-Anocanda.html))，因此，我直接在 Jupyter Notebook 中执行这些命令。\n"
   ]
  },
  {
   "cell_type": "code",
   "execution_count": 5,
   "id": "c04a395d",
   "metadata": {},
   "outputs": [
    {
     "name": "stdout",
     "output_type": "stream",
     "text": [
      "D:\\github_lianxh\\research_with_AI\\refs\n"
     ]
    }
   ],
   "source": [
    "\n",
    "* 安装 getiref\n",
    "//ssc install getiref, replace\n",
    "\n",
    "* 设置下载路径\n",
    "global refpath \"D:\\github_lianxh\\research_with_AI\\refs\"\n",
    "cd \"$refpath\""
   ]
  },
  {
   "cell_type": "code",
   "execution_count": 2,
   "id": "1a9bfe9f",
   "metadata": {},
   "outputs": [
    {
     "name": "stdout",
     "output_type": "stream",
     "text": [
      "  \n",
      "Erdem, O., & Ashok, R. P. (2025). Artificial Finance: How AI Thinks About Money\n",
      ">  (Version 1). arXiv.\n",
      "    Link (rep)    PDF    Google    \n",
      "\n",
      "Erdem, O., & Ashok, R. P. (2025). Artificial Finance: How AI Thinks About Money\n",
      ">  (Version 1). arXiv. [Link](https://doi.org/10.48550/arXiv.2507.10933) (rep),\n",
      ">  [PDF](https://arxiv.org/pdf/2507.10933.pdf), [Google](<https://scholar.googl\n",
      "> e.com/scholar?q=Artificial Finance: How AI Thinks About Money (Version 1)>).\n",
      "        PDF:   dir    view_online     Open\n",
      " \n",
      "Tips: Text is on clipboard. Press 'Ctrl+V' to paste, ^-^\n"
     ]
    }
   ],
   "source": [
    "getiref 2507.10933 , m arxiv pdf"
   ]
  },
  {
   "cell_type": "markdown",
   "id": "f74733fa",
   "metadata": {},
   "source": [
    "执行完上述命令后，引文信息已经被自动粘贴在剪切板上，直接按快捷键 `Ctrl + V` 即可粘贴到 Jupyter Notebook 中。同时，PDF 文档已经下载到指定路径。"
   ]
  },
  {
   "cell_type": "markdown",
   "id": "929ecadf",
   "metadata": {},
   "source": [
    "### 下载好引文信息\n",
    "\n",
    "- Erdem, O., & Ashok, R. P. (2025). Artificial Finance: How AI Thinks About Money (Version 1). arXiv. [Link](https://doi.org/10.48550/arXiv.2507.10933) (rep), [PDF](https://arxiv.org/pdf/2507.10933.pdf), [Google](<https://scholar.google.com/scholar?q=Artificial Finance: How AI Thinks About Money (Version 1)>)."
   ]
  },
  {
   "cell_type": "markdown",
   "id": "14e80d6d",
   "metadata": {},
   "source": [
    "## 其他文献"
   ]
  },
  {
   "cell_type": "code",
   "execution_count": 6,
   "id": "9432880a",
   "metadata": {},
   "outputs": [
    {
     "name": "stdout",
     "output_type": "stream",
     "text": [
      "  \n",
      "Dong, M. M., Stratopoulos, T. C., & Wang, V. X. (2024). A scoping review of Cha\n",
      "> tGPT research in accounting and finance. International Journal of Accounting \n",
      "> Information Systems, 55, 100715.\n",
      "    Link    PDF    Google    \n",
      "\n",
      "Dong, M. M., Stratopoulos, T. C., & Wang, V. X. (2024). A scoping review of Cha\n",
      "> tGPT research in accounting and finance. International Journal of Accounting \n",
      "> Information Systems, 55, 100715. [Link](https://doi.org/10.1016/j.accinf.2024\n",
      "> .100715), [PDF](http://sci-hub.ren/10.1016/j.accinf.2024.100715), [Google](<h\n",
      "> ttps://scholar.google.com/scholar?q=A scoping review of ChatGPT research in a\n",
      "> ccounting and finance>).\n",
      " \n",
      "Tips: Text is on clipboard. Press 'Ctrl+V' to paste, ^-^\n"
     ]
    }
   ],
   "source": [
    "getiref 10.1016/j.accinf.2024.100715, m "
   ]
  },
  {
   "cell_type": "markdown",
   "id": "3fbc695c",
   "metadata": {},
   "source": [
    "- Dong, M. M., Stratopoulos, T. C., & Wang, V. X. (2024). A scoping review of ChatGPT research in accounting and finance. International Journal of Accounting Information Systems, 55, 100715. [Link](https://doi.org/10.1016/j.accinf.2024.100715), [PDF](http://sci-hub.ren/10.1016/j.accinf.2024.100715), [Google](<https://scholar.google.com/scholar?q=A scoping review of ChatGPT research in accounting and finance>)."
   ]
  },
  {
   "cell_type": "code",
   "execution_count": 7,
   "id": "a043bf75",
   "metadata": {},
   "outputs": [
    {
     "name": "stdout",
     "output_type": "stream",
     "text": [
      "  \n",
      "Renkema, M., & Tursunbayeva, A. (2024). The future of work of academics in the \n",
      "> age of Artificial Intelligence: State-of-the-art and a research roadmap. Futu\n",
      "> res, 163, 103453.\n",
      "    Link    PDF    Google    \n",
      "\n",
      "Renkema, M., & Tursunbayeva, A. (2024). The future of work of academics in the \n",
      "> age of Artificial Intelligence: State-of-the-art and a research roadmap. Futu\n",
      "> res, 163, 103453. [Link](https://doi.org/10.1016/j.futures.2024.103453), [PDF\n",
      "> ](http://sci-hub.ren/10.1016/j.futures.2024.103453), [Google](<https://schola\n",
      "> r.google.com/scholar?q=The future of work of academics in the age of Artifici\n",
      "> al Intelligence: State-of-the-art and a research roadmap>).\n",
      " \n",
      "Tips: Text is on clipboard. Press 'Ctrl+V' to paste, ^-^\n"
     ]
    }
   ],
   "source": [
    "getiref      10.1016/j.futures.2024.103453   , m"
   ]
  },
  {
   "cell_type": "markdown",
   "id": "660ae5c3",
   "metadata": {},
   "source": [
    "- Renkema, M., & Tursunbayeva, A. (2024). The future of work of academics in the age of Artificial Intelligence: State-of-the-art and a research roadmap. Futures, 163, 103453. [Link](https://doi.org/10.1016/j.futures.2024.103453), [PDF](https://ris.utwente.nl/ws/portalfiles/portal/489029873/1-s2.0-S0016328724001368-main.pdf), [Google](<https://scholar.google.com/scholar?q=The future of work of academics in the age of Artificial Intelligence: State-of-the-art and a research roadmap>)."
   ]
  },
  {
   "cell_type": "code",
   "execution_count": 9,
   "id": "09981091",
   "metadata": {},
   "outputs": [
    {
     "name": "stdout",
     "output_type": "stream",
     "text": [
      "  \n",
      "Giesecke, O. (2024). AI at the Frontier of Economic Research. SSRN Electronic J\n",
      "> ournal.\n",
      "    Link        Google    \n",
      "\n",
      "Giesecke, O. (2024). AI at the Frontier of Economic Research. SSRN Electronic J\n",
      "> ournal. [Link](https://doi.org/10.2139/ssrn.4736003), [Google](<https://schol\n",
      "> ar.google.com/scholar?q=AI at the Frontier of Economic Research>).\n",
      " \n",
      "Tips: Text is on clipboard. Press 'Ctrl+V' to paste, ^-^\n"
     ]
    }
   ],
   "source": [
    "getiref       10.2139/ssrn.4736003  , m"
   ]
  },
  {
   "cell_type": "markdown",
   "id": "85d967b6",
   "metadata": {},
   "source": [
    "- Giesecke, O. (2024). AI at the Frontier of Economic Research. SSRN Electronic Journal. [Link](https://doi.org/10.2139/ssrn.4736003), [-PDF-](https://papers.ssrn.com/sol3/Delivery.cfm/SSRN_ID4736003_code2051012.pdf?abstractid=4736003&mirid=1&type=2), [Google](<https://scholar.google.com/scholar?q=AI at the Frontier of Economic Research>).\n"
   ]
  }
 ],
 "metadata": {
  "kernelspec": {
   "display_name": "Stata (nbstata)",
   "language": "stata",
   "name": "nbstata"
  },
  "language_info": {
   "file_extension": ".do",
   "mimetype": "text/x-stata",
   "name": "stata",
   "version": "17"
  }
 },
 "nbformat": 4,
 "nbformat_minor": 5
}
